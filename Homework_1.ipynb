{
  "cells": [
    {
      "cell_type": "markdown",
      "metadata": {
        "id": "view-in-github",
        "colab_type": "text"
      },
      "source": [
        "<a href=\"https://colab.research.google.com/github/Wittmann9/BERT_train/blob/main/Homework_1.ipynb\" target=\"_parent\"><img src=\"https://colab.research.google.com/assets/colab-badge.svg\" alt=\"Open In Colab\"/></a>"
      ]
    },
    {
      "cell_type": "code",
      "execution_count": null,
      "metadata": {
        "colab": {
          "base_uri": "https://localhost:8080/",
          "height": 424
        },
        "id": "lKpvtLzgiJHb",
        "outputId": "8840457d-aa8f-4d35-bbab-68631276435d"
      },
      "outputs": [
        {
          "output_type": "execute_result",
          "data": {
            "text/plain": [
              "        dispatching_base_num     pickup_datetime    dropOff_datetime  \\\n",
              "0                     B00009 2021-01-01 00:27:00 2021-01-01 00:44:00   \n",
              "1                     B00009 2021-01-01 00:50:00 2021-01-01 01:07:00   \n",
              "2                     B00013 2021-01-01 00:01:00 2021-01-01 01:51:00   \n",
              "3                     B00037 2021-01-01 00:13:09 2021-01-01 00:21:26   \n",
              "4                     B00037 2021-01-01 00:38:31 2021-01-01 00:53:44   \n",
              "...                      ...                 ...                 ...   \n",
              "1154107               B03266 2021-01-31 23:43:03 2021-01-31 23:51:48   \n",
              "1154108               B03284 2021-01-31 23:50:27 2021-02-01 00:48:03   \n",
              "1154109      B03285          2021-01-31 23:13:46 2021-01-31 23:29:58   \n",
              "1154110      B03285          2021-01-31 23:58:03 2021-02-01 00:17:29   \n",
              "1154111               B03321 2021-01-31 23:39:00 2021-02-01 00:15:00   \n",
              "\n",
              "         PUlocationID  DOlocationID SR_Flag Affiliated_base_number  \n",
              "0                 NaN           NaN    None                 B00009  \n",
              "1                 NaN           NaN    None                 B00009  \n",
              "2                 NaN           NaN    None                 B00013  \n",
              "3                 NaN          72.0    None                 B00037  \n",
              "4                 NaN          61.0    None                 B00037  \n",
              "...               ...           ...     ...                    ...  \n",
              "1154107           7.0           7.0    None                 B03266  \n",
              "1154108          44.0          91.0    None                         \n",
              "1154109         171.0         171.0    None        B03285           \n",
              "1154110          15.0          15.0    None        B03285           \n",
              "1154111           NaN           NaN    None                 B03321  \n",
              "\n",
              "[1154112 rows x 7 columns]"
            ],
            "text/html": [
              "\n",
              "  <div id=\"df-cf583687-9dec-4a55-806a-17f3599bc00e\">\n",
              "    <div class=\"colab-df-container\">\n",
              "      <div>\n",
              "<style scoped>\n",
              "    .dataframe tbody tr th:only-of-type {\n",
              "        vertical-align: middle;\n",
              "    }\n",
              "\n",
              "    .dataframe tbody tr th {\n",
              "        vertical-align: top;\n",
              "    }\n",
              "\n",
              "    .dataframe thead th {\n",
              "        text-align: right;\n",
              "    }\n",
              "</style>\n",
              "<table border=\"1\" class=\"dataframe\">\n",
              "  <thead>\n",
              "    <tr style=\"text-align: right;\">\n",
              "      <th></th>\n",
              "      <th>dispatching_base_num</th>\n",
              "      <th>pickup_datetime</th>\n",
              "      <th>dropOff_datetime</th>\n",
              "      <th>PUlocationID</th>\n",
              "      <th>DOlocationID</th>\n",
              "      <th>SR_Flag</th>\n",
              "      <th>Affiliated_base_number</th>\n",
              "    </tr>\n",
              "  </thead>\n",
              "  <tbody>\n",
              "    <tr>\n",
              "      <th>0</th>\n",
              "      <td>B00009</td>\n",
              "      <td>2021-01-01 00:27:00</td>\n",
              "      <td>2021-01-01 00:44:00</td>\n",
              "      <td>NaN</td>\n",
              "      <td>NaN</td>\n",
              "      <td>None</td>\n",
              "      <td>B00009</td>\n",
              "    </tr>\n",
              "    <tr>\n",
              "      <th>1</th>\n",
              "      <td>B00009</td>\n",
              "      <td>2021-01-01 00:50:00</td>\n",
              "      <td>2021-01-01 01:07:00</td>\n",
              "      <td>NaN</td>\n",
              "      <td>NaN</td>\n",
              "      <td>None</td>\n",
              "      <td>B00009</td>\n",
              "    </tr>\n",
              "    <tr>\n",
              "      <th>2</th>\n",
              "      <td>B00013</td>\n",
              "      <td>2021-01-01 00:01:00</td>\n",
              "      <td>2021-01-01 01:51:00</td>\n",
              "      <td>NaN</td>\n",
              "      <td>NaN</td>\n",
              "      <td>None</td>\n",
              "      <td>B00013</td>\n",
              "    </tr>\n",
              "    <tr>\n",
              "      <th>3</th>\n",
              "      <td>B00037</td>\n",
              "      <td>2021-01-01 00:13:09</td>\n",
              "      <td>2021-01-01 00:21:26</td>\n",
              "      <td>NaN</td>\n",
              "      <td>72.0</td>\n",
              "      <td>None</td>\n",
              "      <td>B00037</td>\n",
              "    </tr>\n",
              "    <tr>\n",
              "      <th>4</th>\n",
              "      <td>B00037</td>\n",
              "      <td>2021-01-01 00:38:31</td>\n",
              "      <td>2021-01-01 00:53:44</td>\n",
              "      <td>NaN</td>\n",
              "      <td>61.0</td>\n",
              "      <td>None</td>\n",
              "      <td>B00037</td>\n",
              "    </tr>\n",
              "    <tr>\n",
              "      <th>...</th>\n",
              "      <td>...</td>\n",
              "      <td>...</td>\n",
              "      <td>...</td>\n",
              "      <td>...</td>\n",
              "      <td>...</td>\n",
              "      <td>...</td>\n",
              "      <td>...</td>\n",
              "    </tr>\n",
              "    <tr>\n",
              "      <th>1154107</th>\n",
              "      <td>B03266</td>\n",
              "      <td>2021-01-31 23:43:03</td>\n",
              "      <td>2021-01-31 23:51:48</td>\n",
              "      <td>7.0</td>\n",
              "      <td>7.0</td>\n",
              "      <td>None</td>\n",
              "      <td>B03266</td>\n",
              "    </tr>\n",
              "    <tr>\n",
              "      <th>1154108</th>\n",
              "      <td>B03284</td>\n",
              "      <td>2021-01-31 23:50:27</td>\n",
              "      <td>2021-02-01 00:48:03</td>\n",
              "      <td>44.0</td>\n",
              "      <td>91.0</td>\n",
              "      <td>None</td>\n",
              "      <td></td>\n",
              "    </tr>\n",
              "    <tr>\n",
              "      <th>1154109</th>\n",
              "      <td>B03285</td>\n",
              "      <td>2021-01-31 23:13:46</td>\n",
              "      <td>2021-01-31 23:29:58</td>\n",
              "      <td>171.0</td>\n",
              "      <td>171.0</td>\n",
              "      <td>None</td>\n",
              "      <td>B03285</td>\n",
              "    </tr>\n",
              "    <tr>\n",
              "      <th>1154110</th>\n",
              "      <td>B03285</td>\n",
              "      <td>2021-01-31 23:58:03</td>\n",
              "      <td>2021-02-01 00:17:29</td>\n",
              "      <td>15.0</td>\n",
              "      <td>15.0</td>\n",
              "      <td>None</td>\n",
              "      <td>B03285</td>\n",
              "    </tr>\n",
              "    <tr>\n",
              "      <th>1154111</th>\n",
              "      <td>B03321</td>\n",
              "      <td>2021-01-31 23:39:00</td>\n",
              "      <td>2021-02-01 00:15:00</td>\n",
              "      <td>NaN</td>\n",
              "      <td>NaN</td>\n",
              "      <td>None</td>\n",
              "      <td>B03321</td>\n",
              "    </tr>\n",
              "  </tbody>\n",
              "</table>\n",
              "<p>1154112 rows × 7 columns</p>\n",
              "</div>\n",
              "      <button class=\"colab-df-convert\" onclick=\"convertToInteractive('df-cf583687-9dec-4a55-806a-17f3599bc00e')\"\n",
              "              title=\"Convert this dataframe to an interactive table.\"\n",
              "              style=\"display:none;\">\n",
              "        \n",
              "  <svg xmlns=\"http://www.w3.org/2000/svg\" height=\"24px\"viewBox=\"0 0 24 24\"\n",
              "       width=\"24px\">\n",
              "    <path d=\"M0 0h24v24H0V0z\" fill=\"none\"/>\n",
              "    <path d=\"M18.56 5.44l.94 2.06.94-2.06 2.06-.94-2.06-.94-.94-2.06-.94 2.06-2.06.94zm-11 1L8.5 8.5l.94-2.06 2.06-.94-2.06-.94L8.5 2.5l-.94 2.06-2.06.94zm10 10l.94 2.06.94-2.06 2.06-.94-2.06-.94-.94-2.06-.94 2.06-2.06.94z\"/><path d=\"M17.41 7.96l-1.37-1.37c-.4-.4-.92-.59-1.43-.59-.52 0-1.04.2-1.43.59L10.3 9.45l-7.72 7.72c-.78.78-.78 2.05 0 2.83L4 21.41c.39.39.9.59 1.41.59.51 0 1.02-.2 1.41-.59l7.78-7.78 2.81-2.81c.8-.78.8-2.07 0-2.86zM5.41 20L4 18.59l7.72-7.72 1.47 1.35L5.41 20z\"/>\n",
              "  </svg>\n",
              "      </button>\n",
              "      \n",
              "  <style>\n",
              "    .colab-df-container {\n",
              "      display:flex;\n",
              "      flex-wrap:wrap;\n",
              "      gap: 12px;\n",
              "    }\n",
              "\n",
              "    .colab-df-convert {\n",
              "      background-color: #E8F0FE;\n",
              "      border: none;\n",
              "      border-radius: 50%;\n",
              "      cursor: pointer;\n",
              "      display: none;\n",
              "      fill: #1967D2;\n",
              "      height: 32px;\n",
              "      padding: 0 0 0 0;\n",
              "      width: 32px;\n",
              "    }\n",
              "\n",
              "    .colab-df-convert:hover {\n",
              "      background-color: #E2EBFA;\n",
              "      box-shadow: 0px 1px 2px rgba(60, 64, 67, 0.3), 0px 1px 3px 1px rgba(60, 64, 67, 0.15);\n",
              "      fill: #174EA6;\n",
              "    }\n",
              "\n",
              "    [theme=dark] .colab-df-convert {\n",
              "      background-color: #3B4455;\n",
              "      fill: #D2E3FC;\n",
              "    }\n",
              "\n",
              "    [theme=dark] .colab-df-convert:hover {\n",
              "      background-color: #434B5C;\n",
              "      box-shadow: 0px 1px 3px 1px rgba(0, 0, 0, 0.15);\n",
              "      filter: drop-shadow(0px 1px 2px rgba(0, 0, 0, 0.3));\n",
              "      fill: #FFFFFF;\n",
              "    }\n",
              "  </style>\n",
              "\n",
              "      <script>\n",
              "        const buttonEl =\n",
              "          document.querySelector('#df-cf583687-9dec-4a55-806a-17f3599bc00e button.colab-df-convert');\n",
              "        buttonEl.style.display =\n",
              "          google.colab.kernel.accessAllowed ? 'block' : 'none';\n",
              "\n",
              "        async function convertToInteractive(key) {\n",
              "          const element = document.querySelector('#df-cf583687-9dec-4a55-806a-17f3599bc00e');\n",
              "          const dataTable =\n",
              "            await google.colab.kernel.invokeFunction('convertToInteractive',\n",
              "                                                     [key], {});\n",
              "          if (!dataTable) return;\n",
              "\n",
              "          const docLinkHtml = 'Like what you see? Visit the ' +\n",
              "            '<a target=\"_blank\" href=https://colab.research.google.com/notebooks/data_table.ipynb>data table notebook</a>'\n",
              "            + ' to learn more about interactive tables.';\n",
              "          element.innerHTML = '';\n",
              "          dataTable['output_type'] = 'display_data';\n",
              "          await google.colab.output.renderOutput(dataTable, element);\n",
              "          const docLink = document.createElement('div');\n",
              "          docLink.innerHTML = docLinkHtml;\n",
              "          element.appendChild(docLink);\n",
              "        }\n",
              "      </script>\n",
              "    </div>\n",
              "  </div>\n",
              "  "
            ]
          },
          "metadata": {},
          "execution_count": 142
        }
      ],
      "source": [
        "import pandas as pd\n",
        "import sklearn\n",
        "from math import sqrt\n",
        "from datetime import timedelta\n",
        "from sklearn import linear_model\n",
        "from sklearn.feature_extraction import DictVectorizer\n",
        "from sklearn.metrics import mean_squared_error\n",
        "df = pd.read_parquet('/content/sample_data/fhv_tripdata_2021-01.parquet', engine='pyarrow')\n",
        "df"
      ]
    },
    {
      "cell_type": "code",
      "execution_count": null,
      "metadata": {
        "colab": {
          "base_uri": "https://localhost:8080/"
        },
        "id": "LCC0h0P8mEfb",
        "outputId": "ce4b7696-ab6a-45f5-ae45-5ac91b360142"
      },
      "outputs": [
        {
          "output_type": "execute_result",
          "data": {
            "text/plain": [
              "19.1672240937939"
            ]
          },
          "metadata": {},
          "execution_count": 136
        }
      ],
      "source": [
        "df['duration'] = (df['dropOff_datetime'] - df['pickup_datetime']).astype('timedelta64[s]')/60.0\n",
        "mean_duration = df['duration'].mean()\n",
        "mean_duration"
      ]
    },
    {
      "cell_type": "code",
      "execution_count": null,
      "metadata": {
        "id": "mzc0pgMVy2yL"
      },
      "outputs": [],
      "source": [
        "df.drop(df[df['duration'] < 1].index, inplace = True)\n",
        "df.drop(df[df['duration'] > 60].index, inplace = True)"
      ]
    },
    {
      "cell_type": "code",
      "execution_count": null,
      "metadata": {
        "id": "lozJ6RrJM1ws"
      },
      "outputs": [],
      "source": [
        "df['PUlocationID'] = df['PUlocationID'].fillna(-1)\n",
        "df['DOlocationID'] = df['DOlocationID'].fillna(-1)"
      ]
    },
    {
      "cell_type": "code",
      "source": [
        "(df['PUlocationID']==-1).sum()/len(df)"
      ],
      "metadata": {
        "colab": {
          "base_uri": "https://localhost:8080/"
        },
        "id": "7OT5FJx2B3K7",
        "outputId": "64874935-11a2-4f0a-9699-d10cf1b4ffd9"
      },
      "execution_count": null,
      "outputs": [
        {
          "output_type": "execute_result",
          "data": {
            "text/plain": [
              "0.8352732770722617"
            ]
          },
          "metadata": {},
          "execution_count": 139
        }
      ]
    },
    {
      "cell_type": "code",
      "source": [
        "def RootMeanSquareError(dataframe):\n",
        "  categorical = ['PUlocationID', 'DOlocationID']\n",
        "  numerical = ['dispatching_base_num']\n",
        "\n",
        "  dataframe[categorical] = dataframe[categorical].astype(str)\n",
        "  train_dicts = dataframe[categorical].to_dict(orient='records')\n",
        "\n",
        "  dv = DictVectorizer()\n",
        "  X_train = dv.fit_transform(train_dicts)\n",
        "\n",
        "  target = 'duration'\n",
        "  y_train = dataframe[target]\n",
        "\n",
        "  lr = linear_model.LinearRegression()\n",
        "  lr.fit(X_train, y_train)\n",
        "\n",
        "  y_pred = lr.predict(X_train)\n",
        "\n",
        "  return mean_squared_error(y_train, y_pred, squared=False)"
      ],
      "metadata": {
        "id": "G8xKAnTa_XBK"
      },
      "execution_count": null,
      "outputs": []
    },
    {
      "cell_type": "code",
      "source": [
        "RootMeanSquareError(df)"
      ],
      "metadata": {
        "colab": {
          "base_uri": "https://localhost:8080/"
        },
        "id": "BPtd_TZT_ahw",
        "outputId": "4ecd6cac-120f-4c8e-ecba-f990f0498943"
      },
      "execution_count": null,
      "outputs": [
        {
          "output_type": "execute_result",
          "data": {
            "text/plain": [
              "10.528519107210744"
            ]
          },
          "metadata": {},
          "execution_count": 141
        }
      ]
    },
    {
      "cell_type": "code",
      "execution_count": null,
      "metadata": {
        "id": "zvzuvb47ym9-"
      },
      "outputs": [],
      "source": [
        "# categorical = ['PUlocationID', 'DOlocationID']\n",
        "# list_of_dicts = df[categorical].astype(str).to_dict('records')\n",
        "# list_of_dicts[:10]"
      ]
    },
    {
      "cell_type": "code",
      "execution_count": null,
      "metadata": {
        "id": "rSWfJND_I4pG"
      },
      "outputs": [],
      "source": [
        "test_data = pd.read_parquet('/content/sample_data/fhv_tripdata_2021-02.parquet', engine='pyarrow')"
      ]
    },
    {
      "cell_type": "code",
      "execution_count": null,
      "metadata": {
        "id": "564WXgZ-KCDf"
      },
      "outputs": [],
      "source": [
        "test_data['duration'] = (test_data['dropOff_datetime'] - test_data['pickup_datetime']).astype('timedelta64[s]')/60.0\n",
        "test_data.drop(test_data[test_data['duration'] > 60].index, inplace = True)\n",
        "test_data.drop(test_data[test_data['duration'] < 1].index, inplace = True)\n",
        "test_data['PUlocationID'] = test_data['PUlocationID'].fillna(-1)\n",
        "test_data['DOlocationID'] = test_data['DOlocationID'].fillna(-1)"
      ]
    },
    {
      "cell_type": "code",
      "source": [
        "def RootMeanSquareError(dataframe):\n",
        "  categorical = ['PUlocationID', 'DOlocationID']\n",
        "  numerical = ['dispatching_base_num']\n",
        "\n",
        "  dataframe[categorical] = dataframe[categorical].astype(str)\n",
        "  train_dicts = dataframe[categorical].to_dict(orient='records')\n",
        "\n",
        "  dv = DictVectorizer()\n",
        "  X_train = dv.fit_transform(train_dicts)\n",
        "\n",
        "  target = 'duration'\n",
        "  y_train = dataframe[target]\n",
        "\n",
        "  lr = linear_model.LinearRegression()\n",
        "  lr.fit(X_train, y_train)\n",
        "\n",
        "  y_pred = lr.predict(X_train)\n",
        "\n",
        "  return mean_squared_error(y_train, y_pred, squared=False)"
      ],
      "metadata": {
        "id": "Jfkb7aOk8DAH"
      },
      "execution_count": null,
      "outputs": []
    },
    {
      "cell_type": "code",
      "source": [
        "RootMeanSquareError(test_data)"
      ],
      "metadata": {
        "colab": {
          "base_uri": "https://localhost:8080/"
        },
        "id": "bD_4x9zU8Y7y",
        "outputId": "ea4e89f1-6e10-4884-9a8c-2625fff397ec"
      },
      "execution_count": null,
      "outputs": [
        {
          "output_type": "execute_result",
          "data": {
            "text/plain": [
              "10.95822844199181"
            ]
          },
          "metadata": {},
          "execution_count": 147
        }
      ]
    }
  ],
  "metadata": {
    "colab": {
      "name": "Homework_1.ipynb",
      "provenance": [],
      "authorship_tag": "ABX9TyPRgP7fo5IvNH8sKweszOju",
      "include_colab_link": true
    },
    "kernelspec": {
      "display_name": "Python 3",
      "name": "python3"
    },
    "language_info": {
      "name": "python"
    }
  },
  "nbformat": 4,
  "nbformat_minor": 0
}